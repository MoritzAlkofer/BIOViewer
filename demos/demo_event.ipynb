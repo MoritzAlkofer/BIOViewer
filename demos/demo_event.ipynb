{
 "cells": [
  {
   "cell_type": "code",
   "execution_count": 20,
   "metadata": {},
   "outputs": [],
   "source": [
    "from BIOViewer import EventViewer, EventConfig\n",
    "import numpy as np\n",
    "import os"
   ]
  },
  {
   "cell_type": "code",
   "execution_count": 21,
   "metadata": {},
   "outputs": [],
   "source": [
    "#generate some mock Data\n",
    "\n",
    "f = 5  # Frequency of the sine wave in Hz\n",
    "\n",
    "for f in range(10):\n",
    "    # Parameters for the sine wave\n",
    "    Fs = 128  # Sampling frequency in Hz\n",
    "    T = 1 / Fs  # Sampling period in seconds\n",
    "    t = np.arange(0, 1, T)  # Time vector for 1 second\n",
    "\n",
    "    # Generate the sine wave\n",
    "    sinewave = np.sin(2 * np.pi * f * t)\n",
    "    np.expand_dims(sinewave,axis=0)\n",
    "    np.save(f'sine_waves/{f}_hz.npy',sinewave)"
   ]
  },
  {
   "cell_type": "code",
   "execution_count": 28,
   "metadata": {},
   "outputs": [
    {
     "ename": "IndexError",
     "evalue": "too many indices for array: array is 1-dimensional, but 2 were indexed",
     "output_type": "error",
     "traceback": [
      "\u001b[0;31m---------------------------------------------------------------------------\u001b[0m",
      "\u001b[0;31mIndexError\u001b[0m                                Traceback (most recent call last)",
      "Cell \u001b[0;32mIn[28], line 4\u001b[0m\n\u001b[1;32m      2\u001b[0m channels \u001b[38;5;241m=\u001b[39m [\u001b[38;5;124m'\u001b[39m\u001b[38;5;124msin\u001b[39m\u001b[38;5;124m'\u001b[39m]\n\u001b[1;32m      3\u001b[0m signalconfig \u001b[38;5;241m=\u001b[39m EventConfig(path_files,loader,Fs,channels,scale\u001b[38;5;241m=\u001b[39m \u001b[38;5;241m140\u001b[39m,unit\u001b[38;5;241m=\u001b[39m\u001b[38;5;124m'\u001b[39m\u001b[38;5;124mmv\u001b[39m\u001b[38;5;124m'\u001b[39m)\n\u001b[0;32m----> 4\u001b[0m viewer \u001b[38;5;241m=\u001b[39m \u001b[43mEventViewer\u001b[49m\u001b[43m(\u001b[49m\u001b[43msignal_configs\u001b[49m\u001b[38;5;241;43m=\u001b[39;49m\u001b[43m[\u001b[49m\u001b[43msignalconfig\u001b[49m\u001b[43m]\u001b[49m\u001b[43m,\u001b[49m\u001b[43mwindowsize\u001b[49m\u001b[38;5;241;43m=\u001b[39;49m\u001b[38;5;241;43m15\u001b[39;49m\u001b[43m,\u001b[49m\u001b[43mpath_save\u001b[49m\u001b[38;5;241;43m=\u001b[39;49m\u001b[38;5;124;43m'\u001b[39;49m\u001b[38;5;124;43mFigures\u001b[39;49m\u001b[38;5;124;43m'\u001b[39;49m\u001b[43m)\u001b[49m\n",
      "File \u001b[0;32m~/Desktop/programming/BIOViewer/BIOViewer/viewer/viewer_event.py:14\u001b[0m, in \u001b[0;36mEventViewer.__init__\u001b[0;34m(self, signal_configs, t_start, windowsize, title, path_save, timestamps, height_ratios, figsize)\u001b[0m\n\u001b[1;32m      9\u001b[0m \u001b[38;5;28msuper\u001b[39m()\u001b[38;5;241m.\u001b[39m\u001b[38;5;21m__init__\u001b[39m(signal_configs,t_start\u001b[38;5;241m=\u001b[39mt_start,windowsize\u001b[38;5;241m=\u001b[39mwindowsize,\n\u001b[1;32m     10\u001b[0m          title\u001b[38;5;241m=\u001b[39mtitle, path_save\u001b[38;5;241m=\u001b[39mpath_save, timestamps\u001b[38;5;241m=\u001b[39mtimestamps,\n\u001b[1;32m     11\u001b[0m          height_ratios\u001b[38;5;241m=\u001b[39mheight_ratios, figsize\u001b[38;5;241m=\u001b[39mfigsize)\n\u001b[1;32m     13\u001b[0m \u001b[38;5;28mself\u001b[39m\u001b[38;5;241m.\u001b[39maction_handler \u001b[38;5;241m=\u001b[39m ActionHandlerEvent(\u001b[38;5;28mself\u001b[39m\u001b[38;5;241m.\u001b[39mfig,\u001b[38;5;28mself\u001b[39m\u001b[38;5;241m.\u001b[39mviewer_config,\u001b[38;5;28mself\u001b[39m\u001b[38;5;241m.\u001b[39msignal_configs,\u001b[38;5;28mself\u001b[39m\u001b[38;5;241m.\u001b[39mdisplays)\n\u001b[0;32m---> 14\u001b[0m \u001b[38;5;28;43mself\u001b[39;49m\u001b[38;5;241;43m.\u001b[39;49m\u001b[43maction_handler\u001b[49m\u001b[43m(\u001b[49m\u001b[38;5;124;43m'\u001b[39;49m\u001b[38;5;124;43minit\u001b[39;49m\u001b[38;5;124;43m'\u001b[39;49m\u001b[43m)\u001b[49m\n\u001b[1;32m     15\u001b[0m \u001b[38;5;28mself\u001b[39m\u001b[38;5;241m.\u001b[39mfig\u001b[38;5;241m.\u001b[39mcanvas\u001b[38;5;241m.\u001b[39mmpl_connect(\u001b[38;5;124m'\u001b[39m\u001b[38;5;124mkey_press_event\u001b[39m\u001b[38;5;124m'\u001b[39m, \u001b[38;5;28;01mlambda\u001b[39;00m event: \u001b[38;5;28mself\u001b[39m\u001b[38;5;241m.\u001b[39maction_handler(event\u001b[38;5;241m.\u001b[39mkey))\n\u001b[1;32m     17\u001b[0m \u001b[38;5;66;03m# display\u001b[39;00m\n",
      "File \u001b[0;32m~/Desktop/programming/BIOViewer/BIOViewer/viewer/viewer_event.py:35\u001b[0m, in \u001b[0;36mActionHandlerEvent.__call__\u001b[0;34m(self, key)\u001b[0m\n\u001b[1;32m     33\u001b[0m \u001b[38;5;28;01mdef\u001b[39;00m \u001b[38;5;21m__call__\u001b[39m(\u001b[38;5;28mself\u001b[39m,key):\n\u001b[1;32m     34\u001b[0m      \u001b[38;5;28;01mif\u001b[39;00m key \u001b[38;5;129;01min\u001b[39;00m \u001b[38;5;28mself\u001b[39m\u001b[38;5;241m.\u001b[39mactions\u001b[38;5;241m.\u001b[39mkeys():\n\u001b[0;32m---> 35\u001b[0m         \u001b[38;5;28;43mself\u001b[39;49m\u001b[38;5;241;43m.\u001b[39;49m\u001b[43mactions\u001b[49m\u001b[43m[\u001b[49m\u001b[43mkey\u001b[49m\u001b[43m]\u001b[49m\u001b[43m(\u001b[49m\u001b[43m)\u001b[49m\n",
      "File \u001b[0;32m~/Desktop/programming/BIOViewer/BIOViewer/viewer/viewer_event.py:50\u001b[0m, in \u001b[0;36mActionHandlerEvent.init_viewer\u001b[0;34m(self, fig, viewer_config, signal_configs, displays)\u001b[0m\n\u001b[1;32m     49\u001b[0m \u001b[38;5;28;01mdef\u001b[39;00m \u001b[38;5;21minit_viewer\u001b[39m(\u001b[38;5;28mself\u001b[39m,fig,viewer_config,signal_configs,displays):\n\u001b[0;32m---> 50\u001b[0m     \u001b[38;5;28;43mself\u001b[39;49m\u001b[38;5;241;43m.\u001b[39;49m\u001b[43mupdate\u001b[49m\u001b[43m(\u001b[49m\u001b[43mfig\u001b[49m\u001b[43m,\u001b[49m\u001b[43mviewer_config\u001b[49m\u001b[43m,\u001b[49m\u001b[43msignal_configs\u001b[49m\u001b[43m,\u001b[49m\u001b[43mdisplays\u001b[49m\u001b[43m)\u001b[49m\n\u001b[1;32m     51\u001b[0m     fig\u001b[38;5;241m.\u001b[39mtight_layout()\n",
      "File \u001b[0;32m~/Desktop/programming/BIOViewer/BIOViewer/viewer/viewer_event.py:60\u001b[0m, in \u001b[0;36mActionHandlerEvent.update\u001b[0;34m(self, fig, viewer_config, signal_configs, displays)\u001b[0m\n\u001b[1;32m     58\u001b[0m         data \u001b[38;5;241m=\u001b[39m transform(data)\n\u001b[1;32m     59\u001b[0m     data \u001b[38;5;241m=\u001b[39m (\u001b[38;5;241m1\u001b[39m\u001b[38;5;241m/\u001b[39msignal_config\u001b[38;5;241m.\u001b[39mscale)\u001b[38;5;241m*\u001b[39mdata\n\u001b[0;32m---> 60\u001b[0m     \u001b[43mdisplay\u001b[49m\u001b[38;5;241;43m.\u001b[39;49m\u001b[43mplot_data\u001b[49m\u001b[43m(\u001b[49m\u001b[43mdata\u001b[49m\u001b[43m,\u001b[49m\u001b[43msignal_config\u001b[49m\u001b[38;5;241;43m.\u001b[39;49m\u001b[43my_locations\u001b[49m\u001b[43m)\u001b[49m\n\u001b[1;32m     61\u001b[0m \u001b[38;5;28;01mif\u001b[39;00m \u001b[38;5;28mlen\u001b[39m(viewer_config\u001b[38;5;241m.\u001b[39mtitle)\u001b[38;5;241m!=\u001b[39m\u001b[38;5;241m0\u001b[39m:\n\u001b[1;32m     62\u001b[0m     fig\u001b[38;5;241m.\u001b[39msuptitle(viewer_config\u001b[38;5;241m.\u001b[39mtitle[idx])\n",
      "File \u001b[0;32m~/Desktop/programming/BIOViewer/BIOViewer/utils/display.py:36\u001b[0m, in \u001b[0;36mSignalDisplay.plot_data\u001b[0;34m(self, signal, y_locations)\u001b[0m\n\u001b[1;32m     34\u001b[0m \u001b[38;5;28;01mdef\u001b[39;00m \u001b[38;5;21mplot_data\u001b[39m(\u001b[38;5;28mself\u001b[39m,signal,y_locations):\n\u001b[1;32m     35\u001b[0m     \u001b[38;5;28;01mfor\u001b[39;00m i,(line,y_location) \u001b[38;5;129;01min\u001b[39;00m \u001b[38;5;28menumerate\u001b[39m(\u001b[38;5;28mzip\u001b[39m(\u001b[38;5;28mself\u001b[39m\u001b[38;5;241m.\u001b[39mlines,y_locations)):\n\u001b[0;32m---> 36\u001b[0m         channel_signal \u001b[38;5;241m=\u001b[39m \u001b[43msignal\u001b[49m\u001b[43m[\u001b[49m\u001b[43mi\u001b[49m\u001b[43m,\u001b[49m\u001b[43m:\u001b[49m\u001b[43m]\u001b[49m\u001b[38;5;241m+\u001b[39my_location\n\u001b[1;32m     37\u001b[0m         line\u001b[38;5;241m.\u001b[39mset_ydata(channel_signal)\n",
      "\u001b[0;31mIndexError\u001b[0m: too many indices for array: array is 1-dimensional, but 2 were indexed"
     ]
    },
    {
     "data": {
      "image/png": "[encoded data removed]",
      "text/plain": [
       "<Figure size 700x400 with 1 Axes>"
      ]
     },
     "metadata": {},
     "output_type": "display_data"
    }
   ],
   "source": [
    "path_files = [os.path.join('sine_waves',f) for f in os.listdir('sine_waves')]\n",
    "channels = ['sin']\n",
    "signalconfig = EventConfig(path_files,loader,Fs,channels,scale= 140,unit='mv')\n",
    "viewer = EventViewer(signal_configs=[signalconfig],windowsize=15,path_save='Figures')"
   ]
  }
 ],
 "metadata": {
  "kernelspec": {
   "display_name": ".venv",
   "language": "python",
   "name": "python3"
  },
  "language_info": {
   "codemirror_mode": {
    "name": "ipython",
    "version": 3
   },
   "file_extension": ".py",
   "mimetype": "text/x-python",
   "name": "python",
   "nbconvert_exporter": "python",
   "pygments_lexer": "ipython3",
   "version": "3.10.12"
  }
 },
 "nbformat": 4,
 "nbformat_minor": 2
}
